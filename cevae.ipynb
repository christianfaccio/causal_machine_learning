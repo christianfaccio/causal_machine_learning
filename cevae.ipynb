{
 "cells": [
  {
   "cell_type": "markdown",
   "id": "f19f4daa",
   "metadata": {},
   "source": [
    "# PML Final Project\n",
    "## Demo of CEAVE package (Pyro)"
   ]
  },
  {
   "cell_type": "code",
   "execution_count": 1,
   "id": "b09c2edf",
   "metadata": {},
   "outputs": [],
   "source": [
    "import pyro\n",
    "from pyro.contrib.cevae import CEVAE\n",
    "import torch\n",
    "import numpy as np"
   ]
  },
  {
   "cell_type": "code",
   "execution_count": 2,
   "id": "e5195d70",
   "metadata": {},
   "outputs": [],
   "source": [
    "# TODO: optimize the package source code to make it cuda compatible\n",
    "\n",
    "# # Step 0: Determine the device\n",
    "# if torch.cuda.is_available():\n",
    "#     device = torch.device(\"cuda\")\n",
    "#     print(\"CUDA is available! Training on GPU.\")\n",
    "# else:\n",
    "#     device = torch.device(\"cpu\")\n",
    "#     print(\"CUDA not available. Training on CPU.\")"
   ]
  },
  {
   "cell_type": "code",
   "execution_count": 3,
   "id": "a3604c26",
   "metadata": {},
   "outputs": [
    {
     "name": "stdout",
     "output_type": "stream",
     "text": [
      "True ATE: 5.9983\n"
     ]
    }
   ],
   "source": [
    "def generate_synthetic_cevae_data(n=1000, seed=42):\n",
    "    torch.manual_seed(seed)\n",
    "    np.random.seed(seed)\n",
    "\n",
    "    # Latent variable z ~ N(0, 1)\n",
    "    z = torch.randn(n, 1)\n",
    "\n",
    "    # 3 continuous proxies and 2 binary ones\n",
    "    x_cont = z + 0.1 * torch.randn(n, 3)\n",
    "    x_binary = torch.bernoulli(torch.sigmoid(z.repeat(1, 2)))\n",
    "\n",
    "    # Treatment t ~ Bernoulli(sigmoid(linear(z)))\n",
    "    logits_t = 2.0 * z  # strong dependence on z\n",
    "    t = torch.bernoulli(torch.sigmoid(logits_t)).unsqueeze(1)  # shape: (n, 1)\n",
    "    t = t.float().flatten()\n",
    "\n",
    "    # y ~ Normal(mu, 1) where mu depends on t and z\n",
    "    y0 = (z - 3).squeeze() + 0.1 * torch.randn(n)\n",
    "    y1 = (z + 3).squeeze() + 0.1 * torch.randn(n)\n",
    "    y = torch.where(t == 1, y1, y0)\n",
    "\n",
    "    # ATE = E[Y(1) - Y(0)]\n",
    "    true_ate = (y1 - y0).mean().item()\n",
    "\n",
    "    return {\n",
    "        'x_cont': x_cont,\n",
    "        'x_binary': x_binary,\n",
    "        't': t,\n",
    "        'y': y,\n",
    "        'z': z,\n",
    "        'true_ate': true_ate\n",
    "    }\n",
    "\n",
    "\n",
    "data = generate_synthetic_cevae_data()\n",
    "print(f\"True ATE: {data['true_ate']:.4f}\")\n"
   ]
  },
  {
   "cell_type": "code",
   "execution_count": 4,
   "id": "a0d643a9",
   "metadata": {},
   "outputs": [],
   "source": [
    "# Generate synthetic data\n",
    "data = generate_synthetic_cevae_data()\n",
    "x_cont = data['x_cont']\n",
    "x_binary = data['x_binary']\n",
    "t = data['t']\n",
    "y = data['y']\n",
    "\n",
    "x = torch.cat([x_binary, x_cont], dim=1)  # shape (n, 5)"
   ]
  },
  {
   "cell_type": "code",
   "execution_count": 5,
   "id": "190579fe",
   "metadata": {},
   "outputs": [],
   "source": [
    "cevae = CEVAE(\n",
    "    feature_dim=x.shape[1],     # total number of covariates\n",
    "    latent_dim=1,               # dimension of latent z\n",
    "    outcome_dist='normal'       \n",
    ")"
   ]
  },
  {
   "cell_type": "code",
   "execution_count": 6,
   "id": "381f06ef",
   "metadata": {},
   "outputs": [
    {
     "name": "stderr",
     "output_type": "stream",
     "text": [
      "INFO \t Training with 10 minibatches per epoch\n"
     ]
    }
   ],
   "source": [
    "# Fit the model\n",
    "cevae.fit(x, t, y, num_epochs=500);"
   ]
  },
  {
   "cell_type": "markdown",
   "id": "e4930614",
   "metadata": {},
   "source": [
    "**NOTE:** with epoch=100 wasn't working well."
   ]
  },
  {
   "cell_type": "code",
   "execution_count": 7,
   "id": "f349e692",
   "metadata": {},
   "outputs": [
    {
     "name": "stderr",
     "output_type": "stream",
     "text": [
      "INFO \t Evaluating 1 minibatches\n"
     ]
    },
    {
     "name": "stdout",
     "output_type": "stream",
     "text": [
      "Estimated ATE: 5.9980\n",
      "True ATE: 5.9983\n"
     ]
    }
   ],
   "source": [
    "# Estimate ITEs and ATE\n",
    "ite = cevae.ite(x, num_samples=100)\n",
    "ate = ite.mean().item()\n",
    "\n",
    "# Compare\n",
    "print(f\"Estimated ATE: {ate:.4f}\")\n",
    "print(f\"True ATE: {data['true_ate']:.4f}\")\n"
   ]
  }
 ],
 "metadata": {
  "kernelspec": {
   "display_name": "Sci-Env",
   "language": "python",
   "name": "sci-env"
  },
  "language_info": {
   "codemirror_mode": {
    "name": "ipython",
    "version": 3
   },
   "file_extension": ".py",
   "mimetype": "text/x-python",
   "name": "python",
   "nbconvert_exporter": "python",
   "pygments_lexer": "ipython3",
   "version": "3.12.3"
  }
 },
 "nbformat": 4,
 "nbformat_minor": 5
}
