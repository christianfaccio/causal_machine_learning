{
 "cells": [
  {
   "cell_type": "markdown",
   "id": "4261a478",
   "metadata": {},
   "source": [
    "# Causal Effect Inference\n",
    "\n",
    "We are in the context of an **observational study**: we observe outcomes ($Y$) for available subjects (with many characteristics $X_i$) on the variables of interest ($T$) without control over this variable. This setting poses a problem: there may be lurking variables not taken into account who affect both the treatment and the outcome (i.e., confounders) making the establishment of cause and effect much harder.\n",
    "\n",
    "This stands in contrast to Randomized Clinical Trials (RCTs), where instead we can randomize the assignment of the subjects to the values of the variable of interest so that no confounders are present."
   ]
  },
  {
   "attachments": {
    "image.png": {
     "image/png": "[encoded data removed]"
    }
   },
   "cell_type": "markdown",
   "id": "abd005fb",
   "metadata": {},
   "source": [
    "**Causal Graphical Model (Causal Bayesian Network)**\n",
    "\n",
    "![image.png](attachment:image.png)\n",
    "\n",
    "We **observe** the features $X_i$, the treatment $T$ and the outcome $Y$, but we do **not observe** the hidden confounder $Z$!\n",
    "\n",
    "Our **objective** is to estimate the **Average Treatment Effect** (ATE), i.e., the effect of $T$ on $Y$."
   ]
  },
  {
   "cell_type": "code",
   "execution_count": 1,
   "id": "65887c47",
   "metadata": {},
   "outputs": [
    {
     "name": "stderr",
     "output_type": "stream",
     "text": [
      "/home/giovanni/Desktop/pml_project/venv/lib/python3.12/site-packages/tqdm/auto.py:21: TqdmWarning: IProgress not found. Please update jupyter and ipywidgets. See https://ipywidgets.readthedocs.io/en/stable/user_install.html\n",
      "  from .autonotebook import tqdm as notebook_tqdm\n"
     ]
    }
   ],
   "source": [
    "from data_gen import synthetic_dataset_pyro\n",
    "import dowhy\n",
    "from dowhy import CausalModel\n",
    "import pandas as pd\n",
    "import numpy as np\n",
    "import warnings\n",
    "warnings.filterwarnings(\"ignore\", category=FutureWarning)\n",
    "import pyro\n",
    "from pyro.contrib.cevae import CEVAE\n",
    "import torch"
   ]
  },
  {
   "cell_type": "code",
   "execution_count": 2,
   "id": "70858175",
   "metadata": {},
   "outputs": [],
   "source": [
    "data = synthetic_dataset_pyro(n=2000, beta=2.0, num_proxies=10,prior_type = \"gaussian\", seed=42)\n",
    "data.keys()\n",
    "length_x = len(data[\"x\"][1]) \n",
    "\n",
    "#clone\n",
    "data_original = data.copy()"
   ]
  },
  {
   "cell_type": "code",
   "execution_count": 3,
   "id": "ef67b145",
   "metadata": {},
   "outputs": [
    {
     "data": {
      "text/html": [
       "<div>\n",
       "<style scoped>\n",
       "    .dataframe tbody tr th:only-of-type {\n",
       "        vertical-align: middle;\n",
       "    }\n",
       "\n",
       "    .dataframe tbody tr th {\n",
       "        vertical-align: top;\n",
       "    }\n",
       "\n",
       "    .dataframe thead th {\n",
       "        text-align: right;\n",
       "    }\n",
       "</style>\n",
       "<table border=\"1\" class=\"dataframe\">\n",
       "  <thead>\n",
       "    <tr style=\"text-align: right;\">\n",
       "      <th></th>\n",
       "      <th>t</th>\n",
       "      <th>y</th>\n",
       "      <th>z</th>\n",
       "      <th>ite</th>\n",
       "      <th>x_0</th>\n",
       "      <th>x_1</th>\n",
       "      <th>x_2</th>\n",
       "      <th>x_3</th>\n",
       "      <th>x_4</th>\n",
       "      <th>x_5</th>\n",
       "      <th>x_6</th>\n",
       "      <th>x_7</th>\n",
       "      <th>x_8</th>\n",
       "      <th>x_9</th>\n",
       "    </tr>\n",
       "  </thead>\n",
       "  <tbody>\n",
       "    <tr>\n",
       "      <th>0</th>\n",
       "      <td>1.0</td>\n",
       "      <td>3.374198</td>\n",
       "      <td>1.926915</td>\n",
       "      <td>1.963458</td>\n",
       "      <td>-0.688857</td>\n",
       "      <td>-1.794350</td>\n",
       "      <td>0.164417</td>\n",
       "      <td>-1.106328</td>\n",
       "      <td>0.477889</td>\n",
       "      <td>-0.949815</td>\n",
       "      <td>-1.100642</td>\n",
       "      <td>-0.573700</td>\n",
       "      <td>1.335683</td>\n",
       "      <td>-0.812672</td>\n",
       "    </tr>\n",
       "    <tr>\n",
       "      <th>1</th>\n",
       "      <td>0.0</td>\n",
       "      <td>0.389723</td>\n",
       "      <td>1.487284</td>\n",
       "      <td>1.743642</td>\n",
       "      <td>-0.803419</td>\n",
       "      <td>-0.667056</td>\n",
       "      <td>-0.221031</td>\n",
       "      <td>-0.335255</td>\n",
       "      <td>-2.074355</td>\n",
       "      <td>-0.946630</td>\n",
       "      <td>-0.484487</td>\n",
       "      <td>0.730178</td>\n",
       "      <td>-0.984199</td>\n",
       "      <td>0.626180</td>\n",
       "    </tr>\n",
       "    <tr>\n",
       "      <th>2</th>\n",
       "      <td>1.0</td>\n",
       "      <td>2.342756</td>\n",
       "      <td>0.900717</td>\n",
       "      <td>1.450359</td>\n",
       "      <td>-0.960594</td>\n",
       "      <td>0.498550</td>\n",
       "      <td>-0.208753</td>\n",
       "      <td>0.067716</td>\n",
       "      <td>0.217839</td>\n",
       "      <td>-0.090666</td>\n",
       "      <td>0.945358</td>\n",
       "      <td>0.879692</td>\n",
       "      <td>-1.900329</td>\n",
       "      <td>-1.909228</td>\n",
       "    </tr>\n",
       "    <tr>\n",
       "      <th>3</th>\n",
       "      <td>0.0</td>\n",
       "      <td>-3.112403</td>\n",
       "      <td>-2.105521</td>\n",
       "      <td>-0.052760</td>\n",
       "      <td>0.131827</td>\n",
       "      <td>1.523604</td>\n",
       "      <td>-1.069372</td>\n",
       "      <td>0.534380</td>\n",
       "      <td>-0.513794</td>\n",
       "      <td>2.163477</td>\n",
       "      <td>0.522745</td>\n",
       "      <td>-2.856230</td>\n",
       "      <td>-0.540974</td>\n",
       "      <td>0.486115</td>\n",
       "    </tr>\n",
       "    <tr>\n",
       "      <th>4</th>\n",
       "      <td>1.0</td>\n",
       "      <td>2.221629</td>\n",
       "      <td>0.678418</td>\n",
       "      <td>1.339209</td>\n",
       "      <td>0.114251</td>\n",
       "      <td>-1.388160</td>\n",
       "      <td>-0.912516</td>\n",
       "      <td>0.000940</td>\n",
       "      <td>1.237285</td>\n",
       "      <td>-0.903159</td>\n",
       "      <td>-1.597616</td>\n",
       "      <td>-1.240581</td>\n",
       "      <td>0.409051</td>\n",
       "      <td>-0.279541</td>\n",
       "    </tr>\n",
       "  </tbody>\n",
       "</table>\n",
       "</div>"
      ],
      "text/plain": [
       "     t         y         z       ite       x_0       x_1       x_2       x_3  \\\n",
       "0  1.0  3.374198  1.926915  1.963458 -0.688857 -1.794350  0.164417 -1.106328   \n",
       "1  0.0  0.389723  1.487284  1.743642 -0.803419 -0.667056 -0.221031 -0.335255   \n",
       "2  1.0  2.342756  0.900717  1.450359 -0.960594  0.498550 -0.208753  0.067716   \n",
       "3  0.0 -3.112403 -2.105521 -0.052760  0.131827  1.523604 -1.069372  0.534380   \n",
       "4  1.0  2.221629  0.678418  1.339209  0.114251 -1.388160 -0.912516  0.000940   \n",
       "\n",
       "        x_4       x_5       x_6       x_7       x_8       x_9  \n",
       "0  0.477889 -0.949815 -1.100642 -0.573700  1.335683 -0.812672  \n",
       "1 -2.074355 -0.946630 -0.484487  0.730178 -0.984199  0.626180  \n",
       "2  0.217839 -0.090666  0.945358  0.879692 -1.900329 -1.909228  \n",
       "3 -0.513794  2.163477  0.522745 -2.856230 -0.540974  0.486115  \n",
       "4  1.237285 -0.903159 -1.597616 -1.240581  0.409051 -0.279541  "
      ]
     },
     "execution_count": 3,
     "metadata": {},
     "output_type": "execute_result"
    }
   ],
   "source": [
    "# translating the dictionary in a dataframe\n",
    "# I need to change the x matrix in different x columns\n",
    "for i in range(data[\"x\"].shape[1]):\n",
    "    data[\"x_\"+str(i)] = data[\"x\"][:,i]\n",
    "\n",
    "data.pop(\"x\",None)\n",
    "\n",
    "data_df = pd.DataFrame.from_dict(data)\n",
    "data_df.head()"
   ]
  },
  {
   "cell_type": "markdown",
   "id": "f2fe24e0",
   "metadata": {},
   "source": [
    "We can obtain a naive estimate for the ATE by taking the mean of the outcome in the two groups in the dataset (those that received the treatment and those who didn't). We call this estimate \"unadgusted\" because we are not considering any of the covariates that can affect the treatment effect."
   ]
  },
  {
   "cell_type": "code",
   "execution_count": 4,
   "id": "d7b4d362",
   "metadata": {},
   "outputs": [
    {
     "name": "stdout",
     "output_type": "stream",
     "text": [
      "Unadjusted ATE 2.6441078\n"
     ]
    }
   ],
   "source": [
    "data_1 = data_df[data_df[\"t\"]==1.0]\n",
    "data_0 = data_df[data_df[\"t\"]==0.0]\n",
    "\n",
    "print(\"Unadjusted ATE\", np.mean(data_1[\"y\"])- np.mean(data_0[\"y\"]))"
   ]
  },
  {
   "cell_type": "markdown",
   "id": "d55edfc7",
   "metadata": {},
   "source": [
    "## First strategy: assuming \"No hidden confounders\"\n",
    "\n",
    "Assuming that there are no hidden confounders (also called **unconfoundness**) means that we consider the $X_i$ to be the only confounders and thus we consider them to be measured!\n",
    "\n",
    "In this case the set of variables $X_i$ satisfy the back-door criterion and we can apply classical methods for causal inference."
   ]
  },
  {
   "cell_type": "code",
   "execution_count": 5,
   "id": "f216ffef",
   "metadata": {},
   "outputs": [],
   "source": [
    "# model = CausalModel(data_df, treatment=\"t\", outcome=\"y\", common_causes=\"z\")\n",
    "# this would be the real model since we know how the data was generated\n",
    "# however, in a real setting, we don't usually have access to the real confounders and we consider the proxies variables we have for it instead  \n",
    "\n",
    "model = CausalModel(data_df, treatment=\"t\", outcome=\"y\", common_causes=[\"x_\"+str(i) for  i in range(0,10)])"
   ]
  },
  {
   "cell_type": "code",
   "execution_count": 6,
   "id": "4e543dd2",
   "metadata": {},
   "outputs": [],
   "source": [
    "# this doesn't work in all python enviroments, for reference look at the generated image\n",
    "#model.view_model(file_name=\"causal_model_no_hidden_confounder\")"
   ]
  },
  {
   "cell_type": "markdown",
   "id": "780d5a4a",
   "metadata": {},
   "source": [
    "We identify the **estimand** using the back-door criterion. Again, we remark the need for the unconfoundedness assumption.\n",
    "\n",
    "The estimand type is **non parametric** because we are **not** assuming any parametric model for the treatment effect.\n",
    "\n",
    "The other two types of estimand (instrumental variable and front-door criterion) are **not** available because there are no instrumental variables or mediators in the causal graph. \n"
   ]
  },
  {
   "cell_type": "code",
   "execution_count": 7,
   "id": "69a3232c",
   "metadata": {},
   "outputs": [
    {
     "name": "stdout",
     "output_type": "stream",
     "text": [
      "Estimand type: EstimandType.NONPARAMETRIC_ATE\n",
      "\n",
      "### Estimand : 1\n",
      "Estimand name: backdoor\n",
      "Estimand expression:\n",
      " d                                                \n",
      "────(E[y|x_7,x_6,x_0,x_1,x_9,x_2,x_3,x_8,x_5,x_4])\n",
      "d[t]                                              \n",
      "Estimand assumption 1, Unconfoundedness: If U→{t} and U→y then P(y|t,x_7,x_6,x_0,x_1,x_9,x_2,x_3,x_8,x_5,x_4,U) = P(y|t,x_7,x_6,x_0,x_1,x_9,x_2,x_3,x_8,x_5,x_4)\n",
      "\n",
      "### Estimand : 2\n",
      "Estimand name: iv\n",
      "No such variable(s) found!\n",
      "\n",
      "### Estimand : 3\n",
      "Estimand name: frontdoor\n",
      "No such variable(s) found!\n",
      "\n"
     ]
    }
   ],
   "source": [
    "#Identify the causal effect\n",
    "identified_estimand = model.identify_effect(proceed_when_unidentifiable=True)\n",
    "print(identified_estimand)"
   ]
  },
  {
   "cell_type": "markdown",
   "id": "e7048e85",
   "metadata": {},
   "source": [
    "We want to compute how the value of $y$ will change with respect to $T$, controlling for all $X_i$.\n",
    "\n",
    "For this purpose, we estimate the ATE using the linear regression to approximate the conditional probability $p(y|x,t)$."
   ]
  },
  {
   "cell_type": "code",
   "execution_count": 8,
   "id": "fd67951f",
   "metadata": {},
   "outputs": [
    {
     "name": "stdout",
     "output_type": "stream",
     "text": [
      "*** Causal Estimate ***\n",
      "\n",
      "## Identified estimand\n",
      "Estimand type: EstimandType.NONPARAMETRIC_ATE\n",
      "\n",
      "### Estimand : 1\n",
      "Estimand name: backdoor\n",
      "Estimand expression:\n",
      " d                                                \n",
      "────(E[y|x_7,x_6,x_0,x_1,x_9,x_2,x_3,x_8,x_5,x_4])\n",
      "d[t]                                              \n",
      "Estimand assumption 1, Unconfoundedness: If U→{t} and U→y then P(y|t,x_7,x_6,x_0,x_1,x_9,x_2,x_3,x_8,x_5,x_4,U) = P(y|t,x_7,x_6,x_0,x_1,x_9,x_2,x_3,x_8,x_5,x_4)\n",
      "\n",
      "## Realized estimand\n",
      "b: y~t+x_7+x_6+x_0+x_1+x_9+x_2+x_3+x_8+x_5+x_4\n",
      "Target units: ate\n",
      "\n",
      "## Estimate\n",
      "Mean value: 1.826061380209927\n",
      "p-value: [7.30073984e-131]\n",
      "\n"
     ]
    }
   ],
   "source": [
    "# Estimate the causal effect and compare it with Average Treatment Effect\n",
    "estimate = model.estimate_effect(identified_estimand,\n",
    "        method_name=\"backdoor.linear_regression\", test_significance=True\n",
    ")\n",
    "\n",
    "print(estimate)\n"
   ]
  },
  {
   "cell_type": "markdown",
   "id": "e9b22ec9",
   "metadata": {},
   "source": [
    "We estimated that receiving the treatment (t=1) increases the outcome of $1.826$ units after adjusting for covariates. This estimates has a very small p-value, suggesting that this effect is statistically significant.\n",
    "\n",
    "Other types of estimation are possible, we try a couple more."
   ]
  },
  {
   "cell_type": "code",
   "execution_count": 9,
   "id": "534a97c1",
   "metadata": {},
   "outputs": [
    {
     "name": "stdout",
     "output_type": "stream",
     "text": [
      "*** Causal Estimate ***\n",
      "\n",
      "## Identified estimand\n",
      "Estimand type: EstimandType.NONPARAMETRIC_ATE\n",
      "\n",
      "### Estimand : 1\n",
      "Estimand name: backdoor\n",
      "Estimand expression:\n",
      " d                                                \n",
      "────(E[y|x_7,x_6,x_0,x_1,x_9,x_2,x_3,x_8,x_5,x_4])\n",
      "d[t]                                              \n",
      "Estimand assumption 1, Unconfoundedness: If U→{t} and U→y then P(y|t,x_7,x_6,x_0,x_1,x_9,x_2,x_3,x_8,x_5,x_4,U) = P(y|t,x_7,x_6,x_0,x_1,x_9,x_2,x_3,x_8,x_5,x_4)\n",
      "\n",
      "## Realized estimand\n",
      "b: y~t+x_7+x_6+x_0+x_1+x_9+x_2+x_3+x_8+x_5+x_4\n",
      "Target units: ate\n",
      "\n",
      "## Estimate\n",
      "Mean value: 1.6661792807467282\n",
      "p-value: [0, 0.001]\n",
      "\n"
     ]
    }
   ],
   "source": [
    "# Estimate the causal effect and compare it with Average Treatment Effect\n",
    "estimate = model.estimate_effect(identified_estimand,\n",
    "        method_name=\"backdoor.propensity_score_matching\", test_significance=True\n",
    ")\n",
    "\n",
    "print(estimate)"
   ]
  },
  {
   "cell_type": "code",
   "execution_count": 10,
   "id": "64f990fc",
   "metadata": {},
   "outputs": [
    {
     "name": "stdout",
     "output_type": "stream",
     "text": [
      "*** Causal Estimate ***\n",
      "\n",
      "## Identified estimand\n",
      "Estimand type: EstimandType.NONPARAMETRIC_ATE\n",
      "\n",
      "### Estimand : 1\n",
      "Estimand name: backdoor\n",
      "Estimand expression:\n",
      " d                                                \n",
      "────(E[y|x_7,x_6,x_0,x_1,x_9,x_2,x_3,x_8,x_5,x_4])\n",
      "d[t]                                              \n",
      "Estimand assumption 1, Unconfoundedness: If U→{t} and U→y then P(y|t,x_7,x_6,x_0,x_1,x_9,x_2,x_3,x_8,x_5,x_4,U) = P(y|t,x_7,x_6,x_0,x_1,x_9,x_2,x_3,x_8,x_5,x_4)\n",
      "\n",
      "## Realized estimand\n",
      "b: y~t+x_7+x_6+x_0+x_1+x_9+x_2+x_3+x_8+x_5+x_4\n",
      "Target units: ate\n",
      "\n",
      "## Estimate\n",
      "Mean value: 1.727517274860689\n",
      "p-value: [0, 0.001]\n",
      "\n"
     ]
    }
   ],
   "source": [
    "# Estimate the causal effect and compare it with Average Treatment Effect\n",
    "estimate = model.estimate_effect(identified_estimand,\n",
    "        method_name=\"backdoor.propensity_score_weighting\", test_significance=True\n",
    ")\n",
    "\n",
    "print(estimate)\n"
   ]
  },
  {
   "cell_type": "markdown",
   "id": "4a197367",
   "metadata": {},
   "source": [
    "With different estimation methods we have obtained the following results:\n",
    "- $1.82$ with linear regression\n",
    "- $1.66$  with propensity score matching\n",
    "- $1.72$ with propensity score weighting"
   ]
  },
  {
   "cell_type": "markdown",
   "id": "8f22eee4",
   "metadata": {},
   "source": [
    "**Remark**: I also verified that, if I give to the model the real hidden confounder (Z), it correctly predicts a causal effect close to 1 for all estimation methods!"
   ]
  },
  {
   "cell_type": "markdown",
   "id": "adbfd2cc",
   "metadata": {},
   "source": [
    "## Second strategy: keeping into account the latent variable\n",
    "\n",
    "If we think that there must be an hidden confounder that we have to account for, we can use the Causal Effect Variational AutoEncoder (CEVAE) to try to estimate it based on the available data.\n"
   ]
  },
  {
   "cell_type": "code",
   "execution_count": null,
   "id": "7f5c6d03",
   "metadata": {},
   "outputs": [],
   "source": [
    "cevae = CEVAE(\n",
    "    feature_dim=length_x,\n",
    "    latent_dim=1,\n",
    "    outcome_dist=\"normal\",\n",
    "    num_layers=5,\n",
    "    hidden_dim=300\n",
    "    )"
   ]
  },
  {
   "cell_type": "code",
   "execution_count": null,
   "id": "a94a8e05",
   "metadata": {},
   "outputs": [],
   "source": [
    "x, t, y   = (\n",
    "    data_original[\"x\"],\n",
    "    data_original[\"t\"],\n",
    "    data_original[\"y\"]\n",
    "    )\n",
    "\n",
    "length_x  = x.shape[1]"
   ]
  },
  {
   "cell_type": "code",
   "execution_count": 13,
   "id": "c8de62ec",
   "metadata": {},
   "outputs": [
    {
     "name": "stdout",
     "output_type": "stream",
     "text": [
      "x.shape: torch.Size([2000, 10])\n",
      "cevae.feature_dim: 10\n"
     ]
    }
   ],
   "source": [
    "print(\"x.shape:\", x.shape)       # should be (N, D)\n",
    "print(\"cevae.feature_dim:\", cevae.feature_dim)\n"
   ]
  },
  {
   "cell_type": "code",
   "execution_count": 14,
   "id": "850bc9c1",
   "metadata": {},
   "outputs": [
    {
     "name": "stderr",
     "output_type": "stream",
     "text": [
      "INFO \t Training with 16 minibatches per epoch\n"
     ]
    }
   ],
   "source": [
    "losses = cevae.fit(\n",
    "    x, t, y,\n",
    "    num_epochs=500,\n",
    "    batch_size=128,\n",
    "    learning_rate=5e-4,\n",
    "    learning_rate_decay=0.1,\n",
    "    weight_decay=1e-5\n",
    "    )"
   ]
  },
  {
   "cell_type": "code",
   "execution_count": 17,
   "id": "47d53c87",
   "metadata": {},
   "outputs": [
    {
     "data": {
      "image/png": "[encoded data removed]",
      "text/plain": [
       "<Figure size 640x480 with 1 Axes>"
      ]
     },
     "metadata": {},
     "output_type": "display_data"
    }
   ],
   "source": [
    "import matplotlib.pyplot as plt\n",
    "\n",
    "plt.plot(losses)\n",
    "plt.xlabel('Epoch')\n",
    "plt.ylabel('Loss')\n",
    "plt.title('CEVAE Training Loss')\n",
    "plt.show()"
   ]
  },
  {
   "cell_type": "code",
   "execution_count": 18,
   "id": "9e1ebdb2",
   "metadata": {},
   "outputs": [
    {
     "name": "stderr",
     "output_type": "stream",
     "text": [
      "INFO \t Evaluating 1 minibatches\n"
     ]
    },
    {
     "name": "stdout",
     "output_type": "stream",
     "text": [
      "Estimated ATE: 1.4226\n",
      "True ATE: 1.0008\n"
     ]
    }
   ],
   "source": [
    "# Estimate ITEs and ATE\n",
    "ite = cevae.ite(x)\n",
    "ate = ite.mean().item()\n",
    "\n",
    "# Compare\n",
    "print(f\"Estimated ATE: {ate:.4f}\")\n",
    "print(f\"True ATE: {data['ite'].mean().item():.4f}\")"
   ]
  }
 ],
 "metadata": {
  "kernelspec": {
   "display_name": "venv",
   "language": "python",
   "name": "python3"
  },
  "language_info": {
   "codemirror_mode": {
    "name": "ipython",
    "version": 3
   },
   "file_extension": ".py",
   "mimetype": "text/x-python",
   "name": "python",
   "nbconvert_exporter": "python",
   "pygments_lexer": "ipython3",
   "version": "3.12.3"
  }
 },
 "nbformat": 4,
 "nbformat_minor": 5
}
